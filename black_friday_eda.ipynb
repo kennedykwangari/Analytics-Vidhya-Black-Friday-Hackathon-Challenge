{
 "cells": [
  {
   "cell_type": "markdown",
   "metadata": {
    "_uuid": "052e075e513664cc0821fd5a1de9693dfb011e34"
   },
   "source": [
    "# BLACK FRIDAY\n",
    "Shopping day after Thanksgiving is called as **Black Friday**. In Black Friday most of retailers open very early and offer promotional sales. Because of that a lot of people do shopping in this day and sometimes it causes chaos. That's why it's called Black Friday.\n",
    "At first the day had not a name. In 1961 people caused traffic accidents and violence to make use of promotions and sales in Philadelpihia after that it is started calling Black Friday. \n",
    "\n",
    "Dataset contains 550 000 observations about the black Friday in a retail store\n",
    "![](https://i0.wp.com/ares.shiftdelete.net/580x330/original/2017/11/black-friday-nedir-sdn-1-1.jpg)"
   ]
  },
  {
   "cell_type": "code",
   "execution_count": null,
   "metadata": {
    "_cell_guid": "b1076dfc-b9ad-4769-8c92-a6c4dae69d19",
    "_uuid": "8f2839f25d086af736a60e9eeb907d3b93b6e0e5"
   },
   "outputs": [],
   "source": [
    "import numpy as np # linear algebra\n",
    "import pandas as pd # data processing, CSV file I/O (e.g. pd.read_csv)\n",
    "import matplotlib.pyplot as plt\n",
    "%matplotlib inline\n",
    "# plotly\n",
    "import plotly.plotly as py\n",
    "from plotly.offline import init_notebook_mode, iplot\n",
    "init_notebook_mode(connected=True)\n",
    "import plotly.graph_objs as go\n",
    "from plotly import tools\n"
   ]
  },
  {
   "cell_type": "code",
   "execution_count": null,
   "metadata": {
    "_cell_guid": "79c7e3d0-c299-4dcb-8224-4455121ee9b0",
    "_uuid": "d629ff2d2480ee46fbb7e2d37f6b5fab8052498a"
   },
   "outputs": [],
   "source": [
    "df = pd.read_csv(\"BlackFriday.csv\")"
   ]
  },
  {
   "cell_type": "code",
   "execution_count": null,
   "metadata": {
    "_uuid": "0981ff8ceaff0f30d13e3b906cc59e010507394d"
   },
   "outputs": [],
   "source": [
    "df.info()"
   ]
  },
  {
   "cell_type": "code",
   "execution_count": null,
   "metadata": {
    "_uuid": "66734ab0f5d1157e41c4d7a238cbb997dff2731c"
   },
   "outputs": [],
   "source": [
    "df.head()"
   ]
  },
  {
   "cell_type": "code",
   "execution_count": null,
   "metadata": {
    "_uuid": "0c15db5d7439dec2540ddbc174894e3e5c43f707"
   },
   "outputs": [],
   "source": [
    "df.columns"
   ]
  },
  {
   "cell_type": "markdown",
   "metadata": {
    "_uuid": "e5fabbf7a129e7b52a33040b23f23073978a58a9"
   },
   "source": [
    "People age of between 26-35 tend to buy more product and spend more money. We may explain this situtation with financial status. Usually in that ages people's financial status are better than younger. Also they are interesting technology and promotions more than older people."
   ]
  },
  {
   "cell_type": "code",
   "execution_count": null,
   "metadata": {
    "_uuid": "5d380a3a6d6893ccb3339b6b9473a5e076c5271d"
   },
   "outputs": [],
   "source": [
    "ageData = sorted(list(zip(df.Age.value_counts().index, df.Age.value_counts().values)))\n",
    "age, productBuy = zip(*ageData)\n",
    "age, productBuy = list(age), list(productBuy)\n",
    "ageSeries = pd.Series((i for i in age))\n",
    "\n",
    "data = [go.Bar(x=age, \n",
    "               y=productBuy, \n",
    "               name=\"How many products were sold\",\n",
    "               marker = dict(color=['#EA4A28', '#D3EA28', '#28EA4E', '#28EAE2', '#2008B9', '#E511E1', '#C4061D'],\n",
    "                            line = dict(color='#7C7C7C', width = .5)),\n",
    "              text=\"Age: \" + ageSeries)]\n",
    "layout = go.Layout(title= \"How many products were sold by ages\")\n",
    "fig = go.Figure(data=data, layout=layout)\n",
    "iplot(fig)"
   ]
  },
  {
   "cell_type": "code",
   "execution_count": null,
   "metadata": {
    "_uuid": "74fbbd7b448fb665fc63187e790195dcc412288e"
   },
   "outputs": [],
   "source": [
    "age0_17 = len(df[df.Age == \"0-17\"].User_ID.unique())\n",
    "age18_25 = len(df[df.Age == \"18-25\"].User_ID.unique())\n",
    "age26_35 = len(df[df.Age == \"26-35\"].User_ID.unique())\n",
    "age36_45 = len(df[df.Age == \"36-45\"].User_ID.unique())\n",
    "age46_50 = len(df[df.Age == \"46-50\"].User_ID.unique())\n",
    "age51_55 = len(df[df.Age == \"51-55\"].User_ID.unique())\n",
    "age55 = len(df[df.Age == \"55+\"].User_ID.unique())\n",
    "agesBuyerCount = [age0_17,age18_25,age26_35,age36_45,age46_50,age51_55,age55]\n",
    "               \n",
    "trace1 = go.Bar(x = age,\n",
    "                y = agesBuyerCount,\n",
    "                name = \"People count\",\n",
    "                marker = dict(color=['#F3B396', '#F3F196', '#A7F9AD', '#D5F0EF', '#AAADEE', '#EAC1E8', '#DF8787'],\n",
    "                             line = dict(color='#7C7C7C', width = 1)),\n",
    "                text = \"Age: \" + ageSeries)\n",
    "data = [trace1]\n",
    "layout = go.Layout(title= \"How many people did shopping by ages\")\n",
    "fig = go.Figure(data=data, layout=layout)\n",
    "iplot(fig)"
   ]
  },
  {
   "cell_type": "code",
   "execution_count": null,
   "metadata": {
    "_uuid": "1c30fcbf94a2c4c567d89c9d9843789f61137dc5"
   },
   "outputs": [],
   "source": [
    "totalPurchase = df.Purchase.sum()"
   ]
  },
  {
   "cell_type": "code",
   "execution_count": null,
   "metadata": {
    "_uuid": "3939baa69e0b2adcbdaaecf1b3d550d4f0b88a12"
   },
   "outputs": [],
   "source": [
    "y_percentage = [i/totalPurchase*100 for i in df.groupby(\"Age\").sum()[\"Purchase\"].values]\n",
    "y_purchase = [i for i in df.groupby(\"Age\").sum()[\"Purchase\"].values]\n",
    "x_percentage = [i for i in age]\n",
    "x_purchase = [i for i in age]\n",
    "\n",
    "trace0 = go.Bar(x = y_percentage,\n",
    "                y = x_percentage,\n",
    "                marker = dict(color = '#BF5959', \n",
    "                              line = dict(\n",
    "                                  color = '#FFFEA6', width = 1) \n",
    "                             ),\n",
    "               name = \"Percentage of purchases amount in dollars\",\n",
    "               orientation = \"h\"\n",
    "               )\n",
    "trace1 = go.Scatter(x = y_purchase,\n",
    "                    y = x_purchase,\n",
    "                    mode='lines+markers',\n",
    "                    line=dict(\n",
    "                        color='#5079DC'),\n",
    "                    name='Purchases amount in dollars ',)\n",
    "layout = dict(\n",
    "                title='Purchases in $',\n",
    "                yaxis=dict(showticklabels=True,domain=[0, 0.85]),\n",
    "                yaxis2=dict(showline=True,showticklabels=False,linecolor='rgba(102, 102, 102, 0.8)',linewidth=2,domain=[0, 0.85]),\n",
    "                xaxis=dict(zeroline=False,showline=False,showticklabels=True,showgrid=True,domain=[0, 0.42]),\n",
    "                xaxis2=dict(zeroline=False,showline=False,showticklabels=True,showgrid=True,domain=[0.47, 1],side='top',dtick=25),\n",
    "                legend=dict(x=0.029,y=1.038,font=dict(size=10) ),\n",
    "                margin=dict(l=200, r=20,t=70,b=70),\n",
    "                paper_bgcolor='rgb(248, 248, 255)',\n",
    "                plot_bgcolor='rgb(248, 248, 255)',\n",
    ")\n",
    "\n",
    "annotations = []\n",
    "\n",
    "y_s = np.round(y_percentage, decimals=2)\n",
    "y_nw = np.rint(y_purchase)\n",
    "\n",
    "for ydn, yd, xd in zip(y_nw, y_s, x_percentage):\n",
    "    annotations.append(dict(xref='x2', yref='y2',\n",
    "                            y=xd, x=ydn - 20000,\n",
    "                            text='{:,}'.format(ydn),\n",
    "                            font=dict(family='Arial', size=12,\n",
    "                                      color='rgb(128, 0, 128)'),\n",
    "                            showarrow=False))\n",
    "    annotations.append(dict(xref='x1', yref='y1',\n",
    "                            y=xd, x=yd + 3,\n",
    "                            text=str(yd) + '%',\n",
    "                            font=dict(family='Arial', size=12,\n",
    "                                      color='rgb(50, 171, 96)'),\n",
    "                            showarrow=False))\n",
    "annotations.append(dict(xref='paper', yref='paper',\n",
    "                        x=-0.2, y=-0.109,\n",
    "                        font=dict(family='Arial', size=10,\n",
    "                                  color='rgb(150,150,150)'),\n",
    "                        showarrow=False))\n",
    "\n",
    "layout['annotations'] = annotations\n",
    "\n",
    "fig = tools.make_subplots(rows=1, cols=2, specs=[[{}, {}]], shared_xaxes=True,\n",
    "                          shared_yaxes=False, vertical_spacing=0.001)\n",
    "\n",
    "fig.append_trace(trace0, 1, 1)\n",
    "fig.append_trace(trace1, 1, 2)\n",
    "\n",
    "fig['layout'].update(layout)\n",
    "iplot(fig)"
   ]
  },
  {
   "cell_type": "code",
   "execution_count": null,
   "metadata": {
    "_kg_hide-input": true,
    "_kg_hide-output": false,
    "_uuid": "2830b727051e458b9c51839851ade3c54889ab59"
   },
   "outputs": [],
   "source": [
    "data = [go.Box(y = df.Purchase, marker = dict(\n",
    "        color = 'rgb(0, 128, 128)',\n",
    "    ))]\n",
    "iplot(data)\n"
   ]
  },
  {
   "cell_type": "markdown",
   "metadata": {
    "_uuid": "433effd3180d3c543f3edbdabbcb096213c31f23"
   },
   "source": [
    "**Purchases Amount in US Dollar Group by City Categories**"
   ]
  },
  {
   "cell_type": "code",
   "execution_count": null,
   "metadata": {
    "_kg_hide-input": true,
    "_uuid": "0ac014179e4346b76ea95992d3a234ff7339b0df",
    "scrolled": true
   },
   "outputs": [],
   "source": [
    "labels = sorted(df.City_Category.unique())\n",
    "values = df.groupby(\"City_Category\").sum()[\"Purchase\"]\n",
    "colors = ['#FEBFB3', '#E1396C', '#96D38C', '#D0F9B1']\n",
    "\n",
    "trace = go.Pie(labels=labels, values=values,\n",
    "               hoverinfo='label+percent', textinfo='value', \n",
    "               textfont=dict(size=20),\n",
    "               marker=dict(colors=colors, \n",
    "                           line=dict(color='#000000', width=2)))\n",
    "iplot([trace])"
   ]
  },
  {
   "cell_type": "markdown",
   "metadata": {
    "_uuid": "d24e46d72fce9c13fdc495dceabb8131c03e2fd1"
   },
   "source": [
    "**Percentage of People's Years of Staying in Current City **"
   ]
  },
  {
   "cell_type": "code",
   "execution_count": null,
   "metadata": {
    "_uuid": "31f60b7b6be44de1a78481b4c42c9b8b8ad31c15"
   },
   "outputs": [],
   "source": [
    "labels = sorted(df.Stay_In_Current_City_Years.unique())\n",
    "values = df.Stay_In_Current_City_Years.value_counts().sort_index()\n",
    "\n",
    "trace = go.Pie(labels=labels, values=values)\n",
    "\n",
    "iplot([trace])"
   ]
  },
  {
   "cell_type": "code",
   "execution_count": null,
   "metadata": {
    "_uuid": "02f7c7a447c4f18ab1edb2f1e4b5653a9aa50476"
   },
   "outputs": [],
   "source": [
    "data = [go.Bar(\n",
    "            x=df.Product_Category_1.value_counts().sort_index().index,\n",
    "            y=df.Product_Category_1.value_counts().sort_index().values\n",
    "    )]\n",
    "layout = go.Layout(\n",
    "    title='Most Purchased Product Category',\n",
    ")\n",
    "\n",
    "fig = go.Figure(data=data, layout=layout)\n",
    "iplot(fig)"
   ]
  },
  {
   "cell_type": "markdown",
   "metadata": {
    "_uuid": "de2343cc304f5020e1a406416886f7f7e2fd07a4"
   },
   "source": [
    "As we can see below single people and males spent more money than married people and females."
   ]
  },
  {
   "cell_type": "code",
   "execution_count": null,
   "metadata": {
    "_uuid": "bbfab106c82a44b1dac411cebee7ba5c70c981b6"
   },
   "outputs": [],
   "source": [
    "x_MaritalStatus = ['Single', 'Married']\n",
    "y_PurchaseAmountAccordingToMaritalStatus = [int(df[df.Marital_Status == 0].Purchase.sum()), int(df[df.Marital_Status == 1].Purchase.sum())]\n",
    "\n",
    "data = [go.Bar(x = x_MaritalStatus, \n",
    "                y = y_PurchaseAmountAccordingToMaritalStatus,\n",
    "              marker = dict(color=['#0239E3','#E36502']))]\n",
    "layout = go.Layout(title = 'Purchased Amount According To Marital Status (in US Dollars)')\n",
    "fig = go.Figure(data=data, layout=layout)\n",
    "iplot(fig)"
   ]
  },
  {
   "cell_type": "code",
   "execution_count": null,
   "metadata": {
    "_uuid": "9bacf0dbda79c22b07b03aa0b2ffa977d265c272"
   },
   "outputs": [],
   "source": []
  },
  {
   "cell_type": "code",
   "execution_count": null,
   "metadata": {
    "_uuid": "a73800e9b84f90731ea6e1c836a29bd2eeae3fe8"
   },
   "outputs": [],
   "source": [
    "x_Gender = ['Male', 'Female']\n",
    "y_PurchaseAmountAccordingToGender = [df[df.Gender == 'M'].Purchase.sum(), df[df.Gender == 'F'].Purchase.sum()]\n",
    "\n",
    "data = [go.Bar(x = x_Gender, \n",
    "                y = y_PurchaseAmountAccordingToGender,\n",
    "              marker = dict(color=['#A6000D','#2ECEE7']))]\n",
    "layout = go.Layout(title = 'Purchased Amount According To Gender (in US Dollars)')\n",
    "fig = go.Figure(data=data, layout=layout)\n",
    "iplot(fig)"
   ]
  },
  {
   "cell_type": "code",
   "execution_count": null,
   "metadata": {
    "_uuid": "74bb528474307f6dc710ae91ebd74e33d7722bf4"
   },
   "outputs": [],
   "source": [
    "x_Status = ['Single & Male', 'Single & Female', 'Married & Male', 'Married & Female']\n",
    "y_Purchases = [df[(df.Gender == 'M') & (df.Marital_Status == 0)].Purchase.sum(),\n",
    "              df[(df.Gender == 'F') & (df.Marital_Status == 0)].Purchase.sum(),\n",
    "              df[(df.Gender == 'M') & (df.Marital_Status == 1)].Purchase.sum(),\n",
    "              df[(df.Gender == 'F') & (df.Marital_Status == 1)].Purchase.sum()]\n",
    "\n",
    "data = [go.Bar(x = x_Status, \n",
    "                y = y_Purchases,\n",
    "              marker = dict(color=['rgb(0,212,65)','rgb(54,10,95)','rgb(5,22,205)','rgb(50,62,1)']))]\n",
    "layout = go.Layout(title = 'Purchased Amount According To Gender and Marital Status (in US Dollars)')\n",
    "fig = go.Figure(data=data, layout=layout)\n",
    "iplot(fig)"
   ]
  },
  {
   "cell_type": "markdown",
   "metadata": {
    "_uuid": "689664ae9473a2e0e3642e50a0b9ebe6ffa22dac"
   },
   "source": [
    "Thanks for your time!"
   ]
  }
 ],
 "metadata": {
  "kernelspec": {
   "display_name": "Python 3",
   "language": "python",
   "name": "python3"
  },
  "language_info": {
   "codemirror_mode": {
    "name": "ipython",
    "version": 3
   },
   "file_extension": ".py",
   "mimetype": "text/x-python",
   "name": "python",
   "nbconvert_exporter": "python",
   "pygments_lexer": "ipython3",
   "version": "3.7.0"
  }
 },
 "nbformat": 4,
 "nbformat_minor": 1
}
